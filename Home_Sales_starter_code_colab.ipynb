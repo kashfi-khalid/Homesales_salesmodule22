{
 "cells": [
  {
   "cell_type": "code",
   "execution_count": null,
   "metadata": {
    "colab": {
     "base_uri": "https://localhost:8080/"
    },
    "id": "a_KW73O2e3dw",
    "outputId": "d48a498e-e30d-43e5-d85b-3081b50ff001"
   },
   "outputs": [],
   "source": [
    "# import os\n",
    "# # Find the latest version of spark 3.x  from http://www.apache.org/dist/spark/ and enter as the spark version\n",
    "# # For example:\n",
    "# # spark_version = 'spark-3.4.0'\n",
    "# spark_version = 'spark-3.4.0'\n",
    "# os.environ['SPARK_VERSION']=spark_version\n",
    "\n",
    "# # Install Spark and Java\n",
    "# # !apt-get update\n",
    "# # !apt-get install openjdk-11-jdk-headless -qq > /dev/null\n",
    "# # !wget -q http://www.apache.org/dist/spark/$SPARK_VERSION/$SPARK_VERSION-bin-hadoop3.tgz\n",
    "# # !tar xf $SPARK_VERSION-bin-hadoop3.tgz\n",
    "# # !pip install -q findspark\n",
    "\n",
    "# # Set Environment Variables\n",
    "# os.environ[\"JAVA_HOME\"] = \"/usr/lib/jvm/java-11-openjdk-amd64\"\n",
    "# os.environ[\"SPARK_HOME\"] = f\"/content/{spark_version}-bin-hadoop3\"\n",
    "\n",
    "# # Start a SparkSession\n",
    "# import findspark\n",
    "# findspark.init()"
   ]
  },
  {
   "cell_type": "code",
   "execution_count": null,
   "metadata": {
    "id": "2XbWNf1Te5fM"
   },
   "outputs": [],
   "source": [
    "# Import packages\n",
    "from pyspark.sql import SparkSession\n",
    "import time\n",
    "\n",
    "\n",
    "# Create a SparkSession\n",
    "spark = SparkSession.builder.appName(\"SparkSQL\").getOrCreate()"
   ]
  },
  {
   "cell_type": "code",
   "execution_count": 2,
   "metadata": {},
   "outputs": [],
   "source": [
    "import pyspark\n",
    "# from pyspark import SparkContext\n",
    "# conf = pyspark.SparkConf()\n",
    "\n",
    "# conf.set('spark.jars.packages', 'org.apache.hadoop:hadoop-aws:3.2.0')\n",
    "# spark = SparkContext(conf=conf)\n",
    "# spark._jsc.hadoopConfiguration().set('fs.s3a.aws.credentials.provider', 'org.apache.hadoop.fs.s3a.TemporaryAWSCredentialsProvider', 'org.apache.hadoop.fs.s3a.S3AFileSystem')\n",
    "# spark._jsc.hadoopConfiguration().set(\"fs.s3a.impl\", \"org.apache.hadoop.fs.s3a.S3AFileSystem\")"
   ]
  },
  {
   "cell_type": "code",
   "execution_count": 3,
   "metadata": {
    "id": "wOJqxG_RPSwp"
   },
   "outputs": [
    {
     "name": "stderr",
     "output_type": "stream",
     "text": [
      "                                                                                \r"
     ]
    },
    {
     "name": "stdout",
     "output_type": "stream",
     "text": [
      "+--------------------+----------+----------+------+--------+---------+-----------+--------+------+----------+----+\n",
      "|                  id|      date|date_built| price|bedrooms|bathrooms|sqft_living|sqft_lot|floors|waterfront|view|\n",
      "+--------------------+----------+----------+------+--------+---------+-----------+--------+------+----------+----+\n",
      "|f8a53099-ba1c-47d...|2022-04-08|      2016|936923|       4|        3|       3167|   11733|     2|         1|  76|\n",
      "|7530a2d8-1ae3-451...|2021-06-13|      2013|379628|       2|        2|       2235|   14384|     1|         0|  23|\n",
      "|43de979c-0bf0-4c9...|2019-04-12|      2014|417866|       2|        2|       2127|   10575|     2|         0|   0|\n",
      "|b672c137-b88c-48b...|2019-10-16|      2016|239895|       2|        2|       1631|   11149|     2|         0|   0|\n",
      "|e0726d4d-d595-407...|2022-01-08|      2017|424418|       3|        2|       2249|   13878|     2|         0|   4|\n",
      "|5aa00529-0533-46b...|2019-01-30|      2017|218712|       2|        3|       1965|   14375|     2|         0|   7|\n",
      "|131492a1-72e2-4a8...|2020-02-08|      2017|419199|       2|        3|       2062|    8876|     2|         0|   6|\n",
      "|8d54a71b-c520-44e...|2019-07-21|      2010|323956|       2|        3|       1506|   11816|     1|         0|  25|\n",
      "|e81aacfe-17fe-46b...|2020-06-16|      2016|181925|       3|        3|       2137|   11709|     2|         0|  22|\n",
      "|2ed8d509-7372-46d...|2021-08-06|      2015|258710|       3|        3|       1918|    9666|     1|         0|  25|\n",
      "|f876d86f-3c9f-42b...|2019-02-27|      2011|167864|       3|        3|       2471|   13924|     2|         0|  15|\n",
      "|0a2bd445-8508-4d8...|2021-12-30|      2014|337527|       2|        3|       1926|   12556|     1|         0|  23|\n",
      "|941bad30-eb49-4a7...|2020-05-09|      2015|229896|       3|        3|       2197|    8641|     1|         0|   3|\n",
      "|dd61eb34-6589-4c0...|2021-07-25|      2016|210247|       3|        2|       1672|   11986|     2|         0|  28|\n",
      "|f1e4cef7-d151-439...|2019-02-01|      2011|398667|       2|        3|       2331|   11356|     1|         0|   7|\n",
      "|ea620c7b-c2f7-4c6...|2021-05-31|      2011|437958|       3|        3|       2356|   11052|     1|         0|  26|\n",
      "|f233cb41-6f33-4b0...|2021-07-18|      2016|437375|       4|        3|       1704|   11721|     2|         0|  34|\n",
      "|c797ca12-52cd-4b1...|2019-06-08|      2015|288650|       2|        3|       2100|   10419|     2|         0|   7|\n",
      "|0cfe57f3-28c2-472...|2019-10-04|      2015|308313|       3|        3|       1960|    9453|     2|         0|   2|\n",
      "|4566cd2a-ac6e-435...|2019-07-15|      2016|177541|       3|        3|       2130|   10517|     2|         0|  25|\n",
      "+--------------------+----------+----------+------+--------+---------+-----------+--------+------+----------+----+\n",
      "only showing top 20 rows\n",
      "\n"
     ]
    }
   ],
   "source": [
    "# 1. Read in the AWS S3 bucket into a DataFrame.\n",
    "from pyspark import SparkFiles\n",
    "# url = \"https://2u-data-curriculum-team.s3.amazonaws.com/dataviz-classroom/v1.2/22-big-data/home_sales_revised.csv\"\n",
    "# url = \"s3a://2u-data-curriculum-team/dataviz-classroom/v1.2/22-big-data/home_sales_revised.csv\"\n",
    "file_path = '/Users/siddhantkaushal/Downloads/home_sales_revised.csv'\n",
    "df = spark.read.csv(file_path, header=True, inferSchema=True)\n",
    "df.show()"
   ]
  },
  {
   "cell_type": "code",
   "execution_count": 4,
   "metadata": {
    "id": "RoljcJ7WPpnm"
   },
   "outputs": [],
   "source": [
    "# 2. Create a temporary view of the DataFrame.\n",
    "\n",
    "df.createOrReplaceTempView(\"home_sales\")"
   ]
  },
  {
   "cell_type": "code",
   "execution_count": 5,
   "metadata": {
    "id": "L6fkwOeOmqvq"
   },
   "outputs": [
    {
     "name": "stderr",
     "output_type": "stream",
     "text": [
      "\r",
      "[Stage 3:>                                                          (0 + 1) / 1]\r"
     ]
    },
    {
     "name": "stdout",
     "output_type": "stream",
     "text": [
      "+----+-------------+\n",
      "|year|average_price|\n",
      "+----+-------------+\n",
      "|2010|    296800.75|\n",
      "|2011|     302141.9|\n",
      "|2012|    298233.42|\n",
      "|2013|    299999.39|\n",
      "|2014|    299073.89|\n",
      "|2015|    307908.86|\n",
      "|2016|    296050.24|\n",
      "|2017|    296576.69|\n",
      "+----+-------------+\n",
      "\n"
     ]
    },
    {
     "name": "stderr",
     "output_type": "stream",
     "text": [
      "\r",
      "                                                                                \r"
     ]
    }
   ],
   "source": [
    "# 3. What is the average price for a four bedroom house sold per year, rounded to two decimal places?\n",
    "\n",
    "query = \"\"\"\n",
    "    SELECT date_built AS year,\n",
    "           ROUND(AVG(price), 2) AS average_price\n",
    "    FROM home_sales\n",
    "    WHERE bedrooms = 4\n",
    "    GROUP BY year\n",
    "    ORDER BY year\n",
    "\"\"\"\n",
    "\n",
    "# Execute the SQL query and show the result\n",
    "result = spark.sql(query)\n",
    "result.show()"
   ]
  },
  {
   "cell_type": "code",
   "execution_count": 6,
   "metadata": {
    "id": "l8p_tUS8h8it"
   },
   "outputs": [
    {
     "name": "stdout",
     "output_type": "stream",
     "text": [
      "+----+-------------+\n",
      "|year|average_price|\n",
      "+----+-------------+\n",
      "|2010|    292859.62|\n",
      "|2011|    291117.47|\n",
      "|2012|    293683.19|\n",
      "|2013|    295962.27|\n",
      "|2014|    290852.27|\n",
      "|2015|     288770.3|\n",
      "|2016|    290555.07|\n",
      "|2017|    292676.79|\n",
      "+----+-------------+\n",
      "\n"
     ]
    }
   ],
   "source": [
    "# 4. What is the average price of a home for each year the home was built,\n",
    "# that have 3 bedrooms and 3 bathrooms, rounded to two decimal places?\n",
    "\n",
    "query = \"\"\"\n",
    "    SELECT date_built AS year,\n",
    "           ROUND(AVG(price), 2) AS average_price\n",
    "    FROM home_sales\n",
    "    WHERE bedrooms = 3\n",
    "      AND bathrooms = 3\n",
    "    GROUP BY year\n",
    "    ORDER BY year\n",
    "\"\"\"\n",
    "\n",
    "# Execute the SQL query and show the result\n",
    "result = spark.sql(query)\n",
    "result.show()"
   ]
  },
  {
   "cell_type": "code",
   "execution_count": 7,
   "metadata": {
    "id": "Y-Eytz64liDU"
   },
   "outputs": [
    {
     "name": "stdout",
     "output_type": "stream",
     "text": [
      "+----+-------------+\n",
      "|year|average_price|\n",
      "+----+-------------+\n",
      "|2010|    285010.22|\n",
      "|2011|    276553.81|\n",
      "|2012|    307539.97|\n",
      "|2013|    303676.79|\n",
      "|2014|    298264.72|\n",
      "|2015|    297609.97|\n",
      "|2016|     293965.1|\n",
      "|2017|    280317.58|\n",
      "+----+-------------+\n",
      "\n"
     ]
    }
   ],
   "source": [
    "# 5. What is the average price of a home for each year the home was built,\n",
    "# that have 3 bedrooms, 3 bathrooms, with two floors,\n",
    "# and are greater than or equal to 2,000 square feet, rounded to two decimal places?\n",
    "\n",
    "\n",
    "query = \"\"\"\n",
    "    SELECT date_built AS year,\n",
    "           ROUND(AVG(price), 2) AS average_price\n",
    "    FROM home_sales\n",
    "    WHERE bedrooms = 3\n",
    "      AND bathrooms = 3\n",
    "      AND floors = 2\n",
    "      AND sqft_living >= 2000\n",
    "    GROUP BY year\n",
    "    ORDER BY year\n",
    "\"\"\"\n",
    "\n",
    "# Execute the SQL query and show the result\n",
    "result = spark.sql(query)\n",
    "result.show()"
   ]
  },
  {
   "cell_type": "code",
   "execution_count": 8,
   "metadata": {
    "colab": {
     "base_uri": "https://localhost:8080/"
    },
    "id": "GUrfgOX1pCRd",
    "outputId": "0a645986-7179-440c-c0bc-345f1693f8af"
   },
   "outputs": [
    {
     "name": "stdout",
     "output_type": "stream",
     "text": [
      "--- 0.11525201797485352 seconds ---\n",
      "+----+-------------+\n",
      "|view|average_price|\n",
      "+----+-------------+\n",
      "| 100|    1026669.5|\n",
      "|  99|   1061201.42|\n",
      "|  98|   1053739.33|\n",
      "|  97|   1129040.15|\n",
      "|  96|   1017815.92|\n",
      "|  95|    1054325.6|\n",
      "|  94|    1033536.2|\n",
      "|  93|   1026006.06|\n",
      "|  92|    970402.55|\n",
      "|  91|   1137372.73|\n",
      "|  90|   1062654.16|\n",
      "|  89|   1107839.15|\n",
      "|  88|   1031719.35|\n",
      "|  87|    1072285.2|\n",
      "|  86|   1070444.25|\n",
      "|  85|   1056336.74|\n",
      "|  84|   1117233.13|\n",
      "|  83|   1033965.93|\n",
      "|  82|    1063498.0|\n",
      "|  81|   1053472.79|\n",
      "+----+-------------+\n",
      "only showing top 20 rows\n",
      "\n"
     ]
    }
   ],
   "source": [
    "# 6. What is the average price of a home per \"view\" rating, rounded to two decimal places,\n",
    "# having an average home price greater than or equal to $350,000? Order by descending view rating. \n",
    "# Although this is a small dataset, determine the run time for this query.\n",
    "import time\n",
    "start_time = time.time()\n",
    "\n",
    "query = \"\"\"\n",
    "    SELECT view,\n",
    "           ROUND(AVG(price), 2) AS average_price\n",
    "    FROM home_sales\n",
    "    GROUP BY view\n",
    "    HAVING AVG(price) >= 350000\n",
    "    ORDER BY view DESC\n",
    "\"\"\"\n",
    "\n",
    "# Execute the SQL query and show the result\n",
    "result = spark.sql(query)\n",
    "\n",
    "print(\"--- %s seconds ---\" % (time.time() - start_time))\n",
    "view_time = time.time() - start_time\n",
    "result.show()"
   ]
  },
  {
   "cell_type": "code",
   "execution_count": 9,
   "metadata": {
    "id": "KAhk3ZD2tFy8"
   },
   "outputs": [
    {
     "data": {
      "text/plain": [
       "DataFrame[id: string, date: date, date_built: int, price: int, bedrooms: int, bathrooms: int, sqft_living: int, sqft_lot: int, floors: int, waterfront: int, view: int]"
      ]
     },
     "execution_count": 9,
     "metadata": {},
     "output_type": "execute_result"
    }
   ],
   "source": [
    "# 7. Cache the the temporary table home_sales.\n",
    "spark.table(\"home_sales\").cache()"
   ]
  },
  {
   "cell_type": "code",
   "execution_count": 10,
   "metadata": {
    "id": "4opVhbvxtL-i"
   },
   "outputs": [
    {
     "data": {
      "text/plain": [
       "True"
      ]
     },
     "execution_count": 10,
     "metadata": {},
     "output_type": "execute_result"
    }
   ],
   "source": [
    "# 8. Check if the table is cached.\n",
    "spark.catalog.isCached('home_sales')"
   ]
  },
  {
   "cell_type": "code",
   "execution_count": 11,
   "metadata": {
    "colab": {
     "base_uri": "https://localhost:8080/"
    },
    "id": "5GnL46lwTSEk",
    "outputId": "63c7dc50-d96a-4a48-97b6-91a446cdb973"
   },
   "outputs": [
    {
     "name": "stdout",
     "output_type": "stream",
     "text": [
      "--- 0.05125284194946289 seconds ---\n",
      "-0.06401729583740234\n"
     ]
    },
    {
     "name": "stderr",
     "output_type": "stream",
     "text": [
      "\r",
      "[Stage 15:>                                                         (0 + 1) / 1]\r"
     ]
    },
    {
     "name": "stdout",
     "output_type": "stream",
     "text": [
      "+----+-------------+\n",
      "|view|average_price|\n",
      "+----+-------------+\n",
      "| 100|    1026669.5|\n",
      "|  99|   1061201.42|\n",
      "|  98|   1053739.33|\n",
      "|  97|   1129040.15|\n",
      "|  96|   1017815.92|\n",
      "|  95|    1054325.6|\n",
      "|  94|    1033536.2|\n",
      "|  93|   1026006.06|\n",
      "|  92|    970402.55|\n",
      "|  91|   1137372.73|\n",
      "|  90|   1062654.16|\n",
      "|  89|   1107839.15|\n",
      "|  88|   1031719.35|\n",
      "|  87|    1072285.2|\n",
      "|  86|   1070444.25|\n",
      "|  85|   1056336.74|\n",
      "|  84|   1117233.13|\n",
      "|  83|   1033965.93|\n",
      "|  82|    1063498.0|\n",
      "|  81|   1053472.79|\n",
      "+----+-------------+\n",
      "only showing top 20 rows\n",
      "\n"
     ]
    },
    {
     "name": "stderr",
     "output_type": "stream",
     "text": [
      "\r",
      "                                                                                \r"
     ]
    }
   ],
   "source": [
    "# 9. Using the cached data, run the last query above, that calculates \n",
    "# the average price of a home per \"view\" rating, rounded to two decimal places,\n",
    "# having an average home price greater than or equal to $350,000. \n",
    "# Determine the runtime and compare it to the uncached runtime.\n",
    "\n",
    "start_time = time.time()\n",
    "\n",
    "query = \"\"\"\n",
    "    SELECT view,\n",
    "           ROUND(AVG(price), 2) AS average_price\n",
    "    FROM home_sales\n",
    "    GROUP BY view\n",
    "    HAVING AVG(price) >= 350000\n",
    "    ORDER BY view DESC\n",
    "\"\"\"\n",
    "\n",
    "# Execute the SQL query and show the result\n",
    "result = spark.sql(query)\n",
    "print(\"--- %s seconds ---\" % (time.time() - start_time))\n",
    "cache_time = time.time() - start_time\n",
    "print(cache_time-view_time)\n",
    "result.show()"
   ]
  },
  {
   "cell_type": "code",
   "execution_count": 12,
   "metadata": {
    "id": "Qm12WN9isHBR"
   },
   "outputs": [
    {
     "name": "stderr",
     "output_type": "stream",
     "text": [
      "                                                                                \r"
     ]
    }
   ],
   "source": [
    "# 10. Partition by the \"date_built\" field on the formatted parquet home sales data \n",
    "# Define the output path for the partitioned Parquet data\n",
    "output_path = \"/Users/siddhantkaushal/Downloads/homesalesmodule22/parquet_partition\"\n",
    "\n",
    "# Write the DataFrame to Parquet format with partitioning by the \"date_built\" field\n",
    "df.write.partitionBy(\"date_built\").parquet(output_path)"
   ]
  },
  {
   "cell_type": "code",
   "execution_count": 13,
   "metadata": {
    "id": "AZ7BgY61sRqY"
   },
   "outputs": [
    {
     "name": "stdout",
     "output_type": "stream",
     "text": [
      "+--------------------+----------+------+--------+---------+-----------+--------+------+----------+----+----------+\n",
      "|                  id|      date| price|bedrooms|bathrooms|sqft_living|sqft_lot|floors|waterfront|view|date_built|\n",
      "+--------------------+----------+------+--------+---------+-----------+--------+------+----------+----+----------+\n",
      "|2ed8d509-7372-46d...|2021-08-06|258710|       3|        3|       1918|    9666|     1|         0|  25|      2015|\n",
      "|941bad30-eb49-4a7...|2020-05-09|229896|       3|        3|       2197|    8641|     1|         0|   3|      2015|\n",
      "|c797ca12-52cd-4b1...|2019-06-08|288650|       2|        3|       2100|   10419|     2|         0|   7|      2015|\n",
      "|0cfe57f3-28c2-472...|2019-10-04|308313|       3|        3|       1960|    9453|     2|         0|   2|      2015|\n",
      "|d715f295-2fbf-4e9...|2021-05-17|391574|       3|        2|       1635|    8040|     2|         0|  10|      2015|\n",
      "|a18515a2-86f3-46b...|2022-02-18|419543|       3|        2|       1642|   12826|     2|         0|  24|      2015|\n",
      "|98f6a9ad-8870-474...|2022-05-07|136752|       2|        3|       1701|   10771|     2|         0|   5|      2015|\n",
      "|7ac67498-b6f3-403...|2021-05-12|349318|       4|        3|       2417|   11304|     2|         0|  37|      2015|\n",
      "|c9bfdb1c-2499-4e3...|2021-12-07|268874|       2|        2|       1537|   12177|     1|         0|  10|      2015|\n",
      "|34c31a34-220d-469...|2019-02-06|409011|       3|        3|       2356|   10507|     1|         0|   1|      2015|\n",
      "|be0ccb95-415d-411...|2020-05-15|425154|       4|        3|       2120|   14229|     2|         0|   4|      2015|\n",
      "|e9031a86-1294-444...|2021-10-09|222322|       4|        3|       1928|   10510|     1|         0|  38|      2015|\n",
      "|e6d7c2a7-596e-4ec...|2019-03-15|131201|       4|        3|       1633|   14655|     1|         0|  22|      2015|\n",
      "|6683714b-3df7-454...|2022-02-01|333403|       4|        2|       2059|    9793|     2|         0|   4|      2015|\n",
      "|00fc996f-508c-430...|2021-07-15|373139|       3|        3|       1763|   11363|     1|         0|  39|      2015|\n",
      "|3d5545f8-bd3b-476...|2020-09-19|797862|       4|        6|       3494|   10385|     2|         0|  90|      2015|\n",
      "|ec6d357c-2435-43e...|2019-05-28|401792|       3|        2|       1627|   10765|     1|         0|  50|      2015|\n",
      "|c2be38fb-814a-403...|2020-03-20|352237|       3|        3|       2485|   10954|     2|         0|   6|      2015|\n",
      "|9570de1f-5a74-45b...|2021-11-29|298453|       3|        2|       2222|   10634|     1|         0|   6|      2015|\n",
      "|1baeff4f-fc00-489...|2020-12-17|152775|       3|        2|       1623|   13851|     1|         0|  41|      2015|\n",
      "+--------------------+----------+------+--------+---------+-----------+--------+------+----------+----+----------+\n",
      "only showing top 20 rows\n",
      "\n"
     ]
    }
   ],
   "source": [
    "# 11. Read the parquet formatted data.\n",
    "\n",
    "df_parquet = spark.read.parquet(output_path)\n",
    "df_parquet.show()"
   ]
  },
  {
   "cell_type": "code",
   "execution_count": 14,
   "metadata": {
    "id": "J6MJkHfvVcvh"
   },
   "outputs": [
    {
     "name": "stdout",
     "output_type": "stream",
     "text": [
      "+--------------------+----------+------+--------+---------+-----------+--------+------+----------+----+----------+\n",
      "|                  id|      date| price|bedrooms|bathrooms|sqft_living|sqft_lot|floors|waterfront|view|date_built|\n",
      "+--------------------+----------+------+--------+---------+-----------+--------+------+----------+----+----------+\n",
      "|2ed8d509-7372-46d...|2021-08-06|258710|       3|        3|       1918|    9666|     1|         0|  25|      2015|\n",
      "|941bad30-eb49-4a7...|2020-05-09|229896|       3|        3|       2197|    8641|     1|         0|   3|      2015|\n",
      "|c797ca12-52cd-4b1...|2019-06-08|288650|       2|        3|       2100|   10419|     2|         0|   7|      2015|\n",
      "|0cfe57f3-28c2-472...|2019-10-04|308313|       3|        3|       1960|    9453|     2|         0|   2|      2015|\n",
      "|d715f295-2fbf-4e9...|2021-05-17|391574|       3|        2|       1635|    8040|     2|         0|  10|      2015|\n",
      "|a18515a2-86f3-46b...|2022-02-18|419543|       3|        2|       1642|   12826|     2|         0|  24|      2015|\n",
      "|98f6a9ad-8870-474...|2022-05-07|136752|       2|        3|       1701|   10771|     2|         0|   5|      2015|\n",
      "|7ac67498-b6f3-403...|2021-05-12|349318|       4|        3|       2417|   11304|     2|         0|  37|      2015|\n",
      "|c9bfdb1c-2499-4e3...|2021-12-07|268874|       2|        2|       1537|   12177|     1|         0|  10|      2015|\n",
      "|34c31a34-220d-469...|2019-02-06|409011|       3|        3|       2356|   10507|     1|         0|   1|      2015|\n",
      "|be0ccb95-415d-411...|2020-05-15|425154|       4|        3|       2120|   14229|     2|         0|   4|      2015|\n",
      "|e9031a86-1294-444...|2021-10-09|222322|       4|        3|       1928|   10510|     1|         0|  38|      2015|\n",
      "|e6d7c2a7-596e-4ec...|2019-03-15|131201|       4|        3|       1633|   14655|     1|         0|  22|      2015|\n",
      "|6683714b-3df7-454...|2022-02-01|333403|       4|        2|       2059|    9793|     2|         0|   4|      2015|\n",
      "|00fc996f-508c-430...|2021-07-15|373139|       3|        3|       1763|   11363|     1|         0|  39|      2015|\n",
      "|3d5545f8-bd3b-476...|2020-09-19|797862|       4|        6|       3494|   10385|     2|         0|  90|      2015|\n",
      "|ec6d357c-2435-43e...|2019-05-28|401792|       3|        2|       1627|   10765|     1|         0|  50|      2015|\n",
      "|c2be38fb-814a-403...|2020-03-20|352237|       3|        3|       2485|   10954|     2|         0|   6|      2015|\n",
      "|9570de1f-5a74-45b...|2021-11-29|298453|       3|        2|       2222|   10634|     1|         0|   6|      2015|\n",
      "|1baeff4f-fc00-489...|2020-12-17|152775|       3|        2|       1623|   13851|     1|         0|  41|      2015|\n",
      "+--------------------+----------+------+--------+---------+-----------+--------+------+----------+----+----------+\n",
      "\n"
     ]
    }
   ],
   "source": [
    "# 12. Create a temporary table for the parquet data.\n",
    "df_parquet.createOrReplaceTempView(\"parquet_home_sales\")\n",
    "spark.sql(\"SELECT * FROM parquet_home_sales limit 20\").show()"
   ]
  },
  {
   "cell_type": "code",
   "execution_count": 15,
   "metadata": {
    "colab": {
     "base_uri": "https://localhost:8080/"
    },
    "id": "G_Vhb52rU1Sn",
    "outputId": "d6748ea6-d70a-41fd-dcb8-c214a85e949e"
   },
   "outputs": [
    {
     "name": "stdout",
     "output_type": "stream",
     "text": [
      "--- 0.05715799331665039 seconds ---\n",
      "0.00590825080871582\n"
     ]
    },
    {
     "name": "stderr",
     "output_type": "stream",
     "text": [
      "\r",
      "[Stage 23:>                                                         (0 + 8) / 8]\r"
     ]
    },
    {
     "name": "stdout",
     "output_type": "stream",
     "text": [
      "+----+-------------+\n",
      "|view|average_price|\n",
      "+----+-------------+\n",
      "| 100|    1026669.5|\n",
      "|  99|   1061201.42|\n",
      "|  98|   1053739.33|\n",
      "|  97|   1129040.15|\n",
      "|  96|   1017815.92|\n",
      "|  95|    1054325.6|\n",
      "|  94|    1033536.2|\n",
      "|  93|   1026006.06|\n",
      "|  92|    970402.55|\n",
      "|  91|   1137372.73|\n",
      "|  90|   1062654.16|\n",
      "|  89|   1107839.15|\n",
      "|  88|   1031719.35|\n",
      "|  87|    1072285.2|\n",
      "|  86|   1070444.25|\n",
      "|  85|   1056336.74|\n",
      "|  84|   1117233.13|\n",
      "|  83|   1033965.93|\n",
      "|  82|    1063498.0|\n",
      "|  81|   1053472.79|\n",
      "+----+-------------+\n",
      "only showing top 20 rows\n",
      "\n"
     ]
    },
    {
     "name": "stderr",
     "output_type": "stream",
     "text": [
      "\r",
      "                                                                                \r"
     ]
    }
   ],
   "source": [
    "# 13. Using the parquet DataFrame, run the last query above, that calculates \n",
    "# the average price of a home per \"view\" rating, rounded to two decimal places,\n",
    "# having an average home price greater than or equal to $350,000. \n",
    "# Determine the runtime and compare it to the cached runtime.\n",
    "\n",
    "start_time = time.time()\n",
    "\n",
    "\n",
    "query = \"\"\"\n",
    "    SELECT view,\n",
    "           ROUND(AVG(price), 2) AS average_price\n",
    "    FROM parquet_home_sales\n",
    "    GROUP BY view\n",
    "    HAVING AVG(price) >= 350000\n",
    "    ORDER BY view DESC\n",
    "\"\"\"\n",
    "\n",
    "# Execute the SQL query and show the result\n",
    "result = spark.sql(query)\n",
    "print(\"--- %s seconds ---\" % (time.time() - start_time))\n",
    "parquet_time = time.time() - start_time\n",
    "print(parquet_time-cache_time)\n",
    "result.show()"
   ]
  },
  {
   "cell_type": "code",
   "execution_count": 16,
   "metadata": {
    "id": "hjjYzQGjtbq8"
   },
   "outputs": [],
   "source": [
    "# 14. Uncache the home_sales temporary table.\n",
    "spark.catalog.uncacheTable(\"home_sales\")"
   ]
  },
  {
   "cell_type": "code",
   "execution_count": 17,
   "metadata": {
    "id": "Sy9NBvO7tlmm"
   },
   "outputs": [
    {
     "data": {
      "text/plain": [
       "False"
      ]
     },
     "execution_count": 17,
     "metadata": {},
     "output_type": "execute_result"
    }
   ],
   "source": [
    "# 15. Check if the home_sales is no longer cached\n",
    "spark.catalog.isCached(\"home_sales\")"
   ]
  },
  {
   "cell_type": "code",
   "execution_count": null,
   "metadata": {
    "id": "Si-BNruRUGK3"
   },
   "outputs": [],
   "source": []
  },
  {
   "cell_type": "code",
   "execution_count": null,
   "metadata": {},
   "outputs": [],
   "source": []
  },
  {
   "cell_type": "code",
   "execution_count": null,
   "metadata": {},
   "outputs": [],
   "source": []
  },
  {
   "cell_type": "code",
   "execution_count": null,
   "metadata": {},
   "outputs": [],
   "source": []
  }
 ],
 "metadata": {
  "colab": {
   "provenance": []
  },
  "gpuClass": "standard",
  "kernelspec": {
   "display_name": "Python 3 (ipykernel)",
   "language": "python",
   "name": "python3"
  },
  "language_info": {
   "codemirror_mode": {
    "name": "ipython",
    "version": 3
   },
   "file_extension": ".py",
   "mimetype": "text/x-python",
   "name": "python",
   "nbconvert_exporter": "python",
   "pygments_lexer": "ipython3",
   "version": "3.9.18"
  },
  "nteract": {
   "version": "0.28.0"
  }
 },
 "nbformat": 4,
 "nbformat_minor": 1
}
